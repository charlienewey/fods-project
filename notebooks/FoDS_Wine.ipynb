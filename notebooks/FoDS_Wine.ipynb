{
 "cells": [
  {
   "cell_type": "markdown",
   "metadata": {},
   "source": [
    "# Putting Wine Data into MongoDB"
   ]
  },
  {
   "cell_type": "code",
   "execution_count": null,
   "metadata": {
    "collapsed": false
   },
   "outputs": [],
   "source": [
    "%matplotlib inline\n",
    "\n",
    "import datetime\n",
    "import json\n",
    "import pandas\n",
    "import pymongo\n",
    "import requests\n",
    "import seaborn\n",
    "import time"
   ]
  },
  {
   "cell_type": "markdown",
   "metadata": {},
   "source": [
    "## Creating a class for the CellarWatch API"
   ]
  },
  {
   "cell_type": "code",
   "execution_count": null,
   "metadata": {
    "collapsed": false
   },
   "outputs": [],
   "source": [
    "class CellarWatch(object):\n",
    "    base_url = \"https://www.cellar-watch.com\"\n",
    "    cookies = None\n",
    "    headers = {\n",
    "        \"Accept\": \"application/json, text/javascript, */*\",\n",
    "        \"X-Requested-With\": \"XMLHttpRequest\",\n",
    "        \"Accept-Encoding\": \"gzip, deflate, sdch, br\",\n",
    "        \"Accept-Language\": \"en-GB,en;q=0.8\"\n",
    "    }\n",
    "    \n",
    "    def __init__(self, cookies=None):\n",
    "        self.cookies = cookies\n",
    "    \n",
    "    def _construct_get(self, endpoint, url_components):\n",
    "        url = \"/\".join([self.base_url, endpoint])\n",
    "        args = []\n",
    "        for k, v in url_components.items():\n",
    "            args.append(\"{k}={v}\".format(k=k, v=v))\n",
    "        return \"{url}?{args}\".format(url=url, args=\"&\".join(args))\n",
    "    \n",
    "    def _get(self, url):\n",
    "        resp = requests.get(url, headers=self.headers, cookies=self.cookies)\n",
    "        rc = str(resp.status_code)\n",
    "        if rc.startswith(\"4\") or rc.startswith(\"5\"):\n",
    "            raise requests.exceptions.HTTPError(\"Got {rc}, expected 200.\".format(rc=rc))\n",
    "        else:\n",
    "            return resp.json()\n",
    "    \n",
    "    def get_wine_price_history(self, lwin, vintage, up_to=None, name=None):\n",
    "        \"\"\"\n",
    "        Args:\n",
    "            lwin    (int): The Liv-Ex wine reference number (LWIN).\n",
    "            vintage (int): The year the wine was harvested.\n",
    "            up_to   (int): Milliseconds since 1970-01-01.\n",
    "        Returns:\n",
    "            dict: A dictionary containing price history and auction information.\n",
    "        \"\"\"\n",
    "        def __tidy_up_block(block):\n",
    "            wine_data = {\n",
    "                \"_id\": \"{lwin}-{vintage}\".format(lwin=lwin, vintage=vintage),\n",
    "                \"name\": name,\n",
    "                \"vintage\": str(vintage),\n",
    "                \"lwin\": str(lwin),\n",
    "                \"history\": []\n",
    "            }\n",
    "            for data in block:\n",
    "                wine_data[\"history\"].append({\n",
    "                    \"date\": datetime.datetime.fromtimestamp(data[\"date\"] / 1000),\n",
    "                    \"price\": data[\"value\"]\n",
    "                })\n",
    "            return wine_data\n",
    "        \n",
    "        if up_to is None:\n",
    "            up_to = int(time.time() * 1000)\n",
    "            \n",
    "        url = self._construct_get(\"chart/individualwinechartpage.do\", {\n",
    "            \"_\": int(time.time() * 1000),\n",
    "            \"ajaxReq\": 1,\n",
    "            \"lwin\": lwin,\n",
    "            \"vintage\": vintage,\n",
    "            \"type\": \"max\",\n",
    "            \"endTime\": up_to\n",
    "        })\n",
    "        \n",
    "        price_history = self._get(url)\n",
    "        hist = { \"auction\": None, \"market\": None, \"list\": None }\n",
    "        for block in price_history:\n",
    "            if \"name\" not in block or \"data\" not in block:\n",
    "                continue\n",
    "            b = __tidy_up_block(block[\"data\"])\n",
    "            if \"Auction\" in block[\"name\"]:\n",
    "                hist[\"auction\"] = b\n",
    "            elif \"Market\" in block[\"name\"]:\n",
    "                hist[\"market\"] = b\n",
    "            elif \"List\" in block[\"name\"]:\n",
    "                hist[\"list\"] = b\n",
    "        \n",
    "        return hist\n",
    "    \n",
    "    def get_lwins(self, name):\n",
    "        \"\"\"\n",
    "        Args:\n",
    "            name (str): The name of the wine (or vineyard) to search for. Alphanumeric only.\n",
    "        Returns:\n",
    "            list: A list of matching wines (with corresponding LWINs).\n",
    "        \"\"\"\n",
    "        url = self._construct_get(\"autocompletewinenames.do\",\n",
    "            {\n",
    "                \"ajaxReq\": 1,\n",
    "                \"term\": name.replace(\" \", \"+\")\n",
    "            }\n",
    "        )\n",
    "        \n",
    "        return sorted(self._get(url), key=lambda v: v[\"id\"])"
   ]
  },
  {
   "cell_type": "markdown",
   "metadata": {},
   "source": [
    "## Set up the CellarWatch API"
   ]
  },
  {
   "cell_type": "code",
   "execution_count": null,
   "metadata": {
    "collapsed": false,
    "scrolled": true
   },
   "outputs": [],
   "source": [
    "# Define the wines and years we want\n",
    "years = range(2004, 2016)\n",
    "wines = [\n",
    "    {\n",
    "        \"name\": \"Haut Brion\",\n",
    "        \"lwin\": 1011247\n",
    "    },\n",
    "    {\n",
    "        \"name\": \"Lafite Rothschild\",\n",
    "        \"lwin\": 1011872\n",
    "    },\n",
    "    {\n",
    "        \"name\": \"Latour\",\n",
    "        \"lwin\": 1012316\n",
    "    },\n",
    "    {\n",
    "        \"name\": \"Margaux\",\n",
    "        \"lwin\": 1012781\n",
    "    },\n",
    "    {\n",
    "        \"name\": \"Mouton Rothschild\",\n",
    "        \"lwin\": 1013544\n",
    "    }\n",
    "]\n",
    "\n",
    "# Copy the \"JSESSIONID\" cookie from a session created in a browser\n",
    "cookies = {\n",
    "    \"JSESSIONID\": \"E1D046B292536855E91389C50D28397F\"\n",
    "}\n",
    "c = CellarWatch(cookies=cookies)\n",
    "\n",
    "# Create MongoDB client, set up database\n",
    "client = pymongo.MongoClient(\"localhost:27017\")\n",
    "db = client.wine_prices"
   ]
  },
  {
   "cell_type": "markdown",
   "metadata": {},
   "source": [
    "## Get data, load into MongoDB"
   ]
  },
  {
   "cell_type": "code",
   "execution_count": null,
   "metadata": {
    "collapsed": false
   },
   "outputs": [],
   "source": [
    "for year in years:\n",
    "    for wine in wines:\n",
    "        hist = c.get_wine_price_history(lwin=wine[\"lwin\"], vintage=year, name=wine[\"name\"])\n",
    "        \n",
    "        auction_hist = hist[\"auction\"]\n",
    "        market_hist = hist[\"market\"]\n",
    "        list_hist = hist[\"list\"]\n",
    "        \n",
    "        if auction_hist is not None:\n",
    "            db.auction_prices.insert_one(auction_hist)\n",
    "        if market_hist is not None:\n",
    "            db.market_prices.insert_one(market_hist)\n",
    "        if list_hist is not None:\n",
    "            db.list_prices.insert_one(list_hist)"
   ]
  },
  {
   "cell_type": "markdown",
   "metadata": {},
   "source": [
    "## Explore data in MongoDB"
   ]
  },
  {
   "cell_type": "code",
   "execution_count": null,
   "metadata": {
    "collapsed": false
   },
   "outputs": [],
   "source": [
    "def prices_list_to_records(wines):\n",
    "    \"\"\"\n",
    "    Converts nested JSON objects to CSV-style records. Duplicated information everywhere.\n",
    "    \"\"\"\n",
    "    for wine in wines:\n",
    "        for date_price in wine[\"history\"]:\n",
    "            w = dict(wine)\n",
    "            w.pop(\"history\", None)\n",
    "            w[\"date\"] = date_price[\"date\"]\n",
    "            w[\"price\"] = date_price[\"price\"]\n",
    "            yield w\n",
    "\n",
    "collection = db.list_prices\n",
    "\n",
    "wines = []\n",
    "for i in collection.find({\"vintage\": \"2008\"}):\n",
    "    wines.append(i)\n",
    "    \n",
    "wines = prices_list_to_records(wines)\n",
    "df = pandas.DataFrame.from_dict(wines)"
   ]
  },
  {
   "cell_type": "markdown",
   "metadata": {},
   "source": [
    "## Plot that shit, son!"
   ]
  },
  {
   "cell_type": "code",
   "execution_count": null,
   "metadata": {
    "collapsed": false
   },
   "outputs": [],
   "source": [
    "import seaborn as sns\n",
    "\n",
    "g = sns.FacetGrid(df, hue='name', size=5, aspect=1.5)\n",
    "g.map(plt.plot, 'date', 'price').add_legend()\n",
    "g.ax.set(xlabel='Date',\n",
    "         ylabel='Price',\n",
    "         title='2005 Vintages')\n",
    "g.fig.autofmt_xdate()"
   ]
  },
  {
   "cell_type": "code",
   "execution_count": null,
   "metadata": {
    "collapsed": true
   },
   "outputs": [],
   "source": []
  }
 ],
 "metadata": {
  "kernelspec": {
   "display_name": "Python 3",
   "language": "python",
   "name": "python3"
  },
  "language_info": {
   "codemirror_mode": {
    "name": "ipython",
    "version": 3
   },
   "file_extension": ".py",
   "mimetype": "text/x-python",
   "name": "python",
   "nbconvert_exporter": "python",
   "pygments_lexer": "ipython3",
   "version": "3.4.3"
  }
 },
 "nbformat": 4,
 "nbformat_minor": 1
}
